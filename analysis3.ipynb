{
 "cells": [
  {
   "cell_type": "markdown",
   "metadata": {},
   "source": [
    "## Import Packages"
   ]
  },
  {
   "cell_type": "code",
   "execution_count": 1,
   "metadata": {},
   "outputs": [],
   "source": [
    "import pandas as pd\n",
    "import numpy as np\n",
    "\n",
    "from transformers import AutoTokenizer, AutoModelForSeq2SeqLM\n",
    "\n",
    "from multiprocessing.pool import ThreadPool\n",
    "from tqdm import tqdm\n",
    "import time \n",
    "from time import sleep\n",
    "from multiprocessing import Pool\n",
    "# fr⁄om progressbar import progressbar\n",
    "\n",
    "import warnings\n",
    "warnings.filterwarnings('ignore')"
   ]
  },
  {
   "cell_type": "markdown",
   "metadata": {},
   "source": [
    "## Read the data "
   ]
  },
  {
   "cell_type": "code",
   "execution_count": 2,
   "metadata": {},
   "outputs": [
    {
     "data": {
      "text/html": [
       "<div>\n",
       "<style scoped>\n",
       "    .dataframe tbody tr th:only-of-type {\n",
       "        vertical-align: middle;\n",
       "    }\n",
       "\n",
       "    .dataframe tbody tr th {\n",
       "        vertical-align: top;\n",
       "    }\n",
       "\n",
       "    .dataframe thead th {\n",
       "        text-align: right;\n",
       "    }\n",
       "</style>\n",
       "<table border=\"1\" class=\"dataframe\">\n",
       "  <thead>\n",
       "    <tr style=\"text-align: right;\">\n",
       "      <th></th>\n",
       "      <th>year</th>\n",
       "      <th>month</th>\n",
       "      <th>day</th>\n",
       "      <th>url</th>\n",
       "      <th>title</th>\n",
       "      <th>letterId</th>\n",
       "      <th>question_only</th>\n",
       "    </tr>\n",
       "  </thead>\n",
       "  <tbody>\n",
       "    <tr>\n",
       "      <th>0</th>\n",
       "      <td>1985</td>\n",
       "      <td>1.0</td>\n",
       "      <td>01</td>\n",
       "      <td>proquest</td>\n",
       "      <td>WOMAN NEEDS HELP: HER BURDEN OF HOPELESSNESS I...</td>\n",
       "      <td>1</td>\n",
       "      <td>i have been in a bad marriage for 40 years. i ...</td>\n",
       "    </tr>\n",
       "    <tr>\n",
       "      <th>1</th>\n",
       "      <td>1985</td>\n",
       "      <td>1.0</td>\n",
       "      <td>01</td>\n",
       "      <td>proquest</td>\n",
       "      <td>WOMAN NEEDS HELP: HER BURDEN OF HOPELESSNESS I...</td>\n",
       "      <td>1</td>\n",
       "      <td>this is for all newspaper carriers, mail carri...</td>\n",
       "    </tr>\n",
       "    <tr>\n",
       "      <th>2</th>\n",
       "      <td>1985</td>\n",
       "      <td>1.0</td>\n",
       "      <td>02</td>\n",
       "      <td>proquest</td>\n",
       "      <td>LAMENT ABOUT OLD AGE AND SICKNESS IS ILL-ADVISED</td>\n",
       "      <td>1</td>\n",
       "      <td>our 16-year-old son recently was placed in a s...</td>\n",
       "    </tr>\n",
       "    <tr>\n",
       "      <th>3</th>\n",
       "      <td>1985</td>\n",
       "      <td>1.0</td>\n",
       "      <td>03</td>\n",
       "      <td>proquest</td>\n",
       "      <td>'NORMAL' WIDOW HAS AN EYE FOR THE GUYS</td>\n",
       "      <td>1</td>\n",
       "      <td>i was a happy, respectable wife for 40 years, ...</td>\n",
       "    </tr>\n",
       "    <tr>\n",
       "      <th>4</th>\n",
       "      <td>1985</td>\n",
       "      <td>1.0</td>\n",
       "      <td>04</td>\n",
       "      <td>proquest</td>\n",
       "      <td>IT'S WISE TO BE WARY WHEN A STRANGER COMES TO ...</td>\n",
       "      <td>1</td>\n",
       "      <td>you be the judge: last night about 7 p.m. i wa...</td>\n",
       "    </tr>\n",
       "  </tbody>\n",
       "</table>\n",
       "</div>"
      ],
      "text/plain": [
       "   year  month day       url  \\\n",
       "0  1985    1.0  01  proquest   \n",
       "1  1985    1.0  01  proquest   \n",
       "2  1985    1.0  02  proquest   \n",
       "3  1985    1.0  03  proquest   \n",
       "4  1985    1.0  04  proquest   \n",
       "\n",
       "                                               title  letterId  \\\n",
       "0  WOMAN NEEDS HELP: HER BURDEN OF HOPELESSNESS I...         1   \n",
       "1  WOMAN NEEDS HELP: HER BURDEN OF HOPELESSNESS I...         1   \n",
       "2   LAMENT ABOUT OLD AGE AND SICKNESS IS ILL-ADVISED         1   \n",
       "3             'NORMAL' WIDOW HAS AN EYE FOR THE GUYS         1   \n",
       "4  IT'S WISE TO BE WARY WHEN A STRANGER COMES TO ...         1   \n",
       "\n",
       "                                       question_only  \n",
       "0  i have been in a bad marriage for 40 years. i ...  \n",
       "1  this is for all newspaper carriers, mail carri...  \n",
       "2  our 16-year-old son recently was placed in a s...  \n",
       "3  i was a happy, respectable wife for 40 years, ...  \n",
       "4  you be the judge: last night about 7 p.m. i wa...  "
      ]
     },
     "execution_count": 2,
     "metadata": {},
     "output_type": "execute_result"
    }
   ],
   "source": [
    "filename = 'data/raw_da_qs.csv'\n",
    "\n",
    "data_total = pd.read_csv(filename)\n",
    "\n",
    "data_total.head()"
   ]
  },
  {
   "cell_type": "markdown",
   "metadata": {},
   "source": [
    "### Replace the month NAN with the median value"
   ]
  },
  {
   "cell_type": "code",
   "execution_count": 3,
   "metadata": {},
   "outputs": [
    {
     "data": {
      "text/plain": [
       "(3, 0.0)"
      ]
     },
     "execution_count": 3,
     "metadata": {},
     "output_type": "execute_result"
    }
   ],
   "source": [
    "data_total.month.isna().sum(), np.isnan(data_total.month).median()"
   ]
  },
  {
   "cell_type": "code",
   "execution_count": 4,
   "metadata": {},
   "outputs": [
    {
     "data": {
      "text/plain": [
       "0"
      ]
     },
     "execution_count": 4,
     "metadata": {},
     "output_type": "execute_result"
    }
   ],
   "source": [
    "def replace_month_nan(df = data_total):\n",
    "    for i in range(len(df)):\n",
    "        if np.isnan(df.month[i]):\n",
    "            df.month[i] = np.isnan(df.month).median()\n",
    "    return df\n",
    "\n",
    "replace_month_nan()\n",
    "\n",
    "data_total.month.isna().sum()"
   ]
  },
  {
   "cell_type": "markdown",
   "metadata": {},
   "source": [
    "### Create the 'DATE' column"
   ]
  },
  {
   "cell_type": "code",
   "execution_count": 5,
   "metadata": {},
   "outputs": [],
   "source": [
    "def get_date(df=data_total):\n",
    "    df['date'] = ''*len(df)\n",
    "    \n",
    "    for row in range(len(df)):\n",
    "        df['date'][row] = str(df['day'][row]) + '-' + str(df['month'][row]) + '-' + str(df['year'][row])\n",
    "    \n",
    "    return df[['url','question_only','date']]\n",
    "\n",
    "data_total = get_date()"
   ]
  },
  {
   "cell_type": "markdown",
   "metadata": {},
   "source": [
    "## Instantiate Model"
   ]
  },
  {
   "cell_type": "code",
   "execution_count": 6,
   "metadata": {},
   "outputs": [
    {
     "data": {
      "text/html": [
       "<div>\n",
       "<style scoped>\n",
       "    .dataframe tbody tr th:only-of-type {\n",
       "        vertical-align: middle;\n",
       "    }\n",
       "\n",
       "    .dataframe tbody tr th {\n",
       "        vertical-align: top;\n",
       "    }\n",
       "\n",
       "    .dataframe thead th {\n",
       "        text-align: right;\n",
       "    }\n",
       "</style>\n",
       "<table border=\"1\" class=\"dataframe\">\n",
       "  <thead>\n",
       "    <tr style=\"text-align: right;\">\n",
       "      <th></th>\n",
       "      <th>url</th>\n",
       "      <th>question_only</th>\n",
       "      <th>date</th>\n",
       "    </tr>\n",
       "  </thead>\n",
       "  <tbody>\n",
       "    <tr>\n",
       "      <th>0</th>\n",
       "      <td>proquest</td>\n",
       "      <td>i have been in a bad marriage for 40 years. i ...</td>\n",
       "      <td>01-1.0-1985</td>\n",
       "    </tr>\n",
       "    <tr>\n",
       "      <th>1</th>\n",
       "      <td>proquest</td>\n",
       "      <td>this is for all newspaper carriers, mail carri...</td>\n",
       "      <td>01-1.0-1985</td>\n",
       "    </tr>\n",
       "    <tr>\n",
       "      <th>2</th>\n",
       "      <td>proquest</td>\n",
       "      <td>our 16-year-old son recently was placed in a s...</td>\n",
       "      <td>02-1.0-1985</td>\n",
       "    </tr>\n",
       "  </tbody>\n",
       "</table>\n",
       "</div>"
      ],
      "text/plain": [
       "        url                                      question_only         date\n",
       "0  proquest  i have been in a bad marriage for 40 years. i ...  01-1.0-1985\n",
       "1  proquest  this is for all newspaper carriers, mail carri...  01-1.0-1985\n",
       "2  proquest  our 16-year-old son recently was placed in a s...  02-1.0-1985"
      ]
     },
     "execution_count": 6,
     "metadata": {},
     "output_type": "execute_result"
    }
   ],
   "source": [
    "data_total.head(3)"
   ]
  },
  {
   "cell_type": "code",
   "execution_count": 7,
   "metadata": {},
   "outputs": [
    {
     "name": "stderr",
     "output_type": "stream",
     "text": [
      "normalizer.cc(51) LOG(INFO) precompiled_charsmap is empty. use identity normalization.\n"
     ]
    }
   ],
   "source": [
    "#instantiate the model\n",
    "tokenizer = AutoTokenizer.from_pretrained(\"google/roberta2roberta_L-24_bbc\")\n",
    "model = AutoModelForSeq2SeqLM.from_pretrained(\"google/roberta2roberta_L-24_bbc\")"
   ]
  },
  {
   "cell_type": "markdown",
   "metadata": {},
   "source": [
    "### Create summarization function"
   ]
  },
  {
   "cell_type": "code",
   "execution_count": null,
   "metadata": {},
   "outputs": [],
   "source": [
    "for i in range(2):\n",
    "    text = data_total.question_only[i]\n",
    "    print(text)\n",
    "    \n",
    "    input_ids = tokenizer(text, return_tensors=\"pt\").input_ids\n",
    "    output_ids = model.generate(input_ids)[0]\n",
    "    print(\"\\t\\t\\t\\t\", tokenizer.decode(output_ids, skip_special_tokens=True, max_length=20))"
   ]
  },
  {
   "cell_type": "code",
   "execution_count": null,
   "metadata": {},
   "outputs": [],
   "source": [
    "data_total = data_total.dropna()\n",
    "data_total.info()"
   ]
  },
  {
   "cell_type": "code",
   "execution_count": null,
   "metadata": {},
   "outputs": [],
   "source": [
    "\n",
    "\n",
    "data_total['question_summary'] = ''*len(data_total)\n",
    "\n",
    "def summarize_questions(range_ab ,df = data_total):\n",
    "    r1,r2 = range_ab[0],range_ab[1]\n",
    "    # bar = progressbar.ProgressBar(mval=len(r2-r1)).start()\n",
    "    \n",
    "    if r2 is None :\n",
    "        r2 = len(df)\n",
    "        \n",
    "    for row in tqdm(range(r1,r2)):\n",
    "        input_ids = tokenizer.encode(df.question_only[row],\n",
    "                                     return_tensors='pt', \n",
    "                                     padding=True, \n",
    "                                     truncation=True, \n",
    "                                     max_length=20, \n",
    "                                     add_special_tokens = True)\n",
    "        output_ids = model.generate(input_ids)[0]\n",
    "        res = tokenizer.decode(output_ids,skip_special_tokens=True)\n",
    "        \n",
    "        df['question_summary'][row] = res\n",
    "        sleep(0.02)\n",
    "        # bar.update(idx)\n",
    "        \n",
    "        # print(\" Process %s waiting %s seconds\" % (row, row+1))\n",
    "        # time.sleep(int(row+1))\n",
    "        # print(\" Process %s Finished.\" % row)\n",
    "    \n",
    "    return df"
   ]
  },
  {
   "cell_type": "code",
   "execution_count": null,
   "metadata": {},
   "outputs": [],
   "source": [
    "a = list(range(0, 20100, 100))\n",
    "b = list(range(100, 20100, 100))"
   ]
  },
  {
   "cell_type": "code",
   "execution_count": null,
   "metadata": {},
   "outputs": [],
   "source": [
    "ranges = list(zip(a, b))\n",
    "# ranges, len(ranges)"
   ]
  },
  {
   "cell_type": "code",
   "execution_count": null,
   "metadata": {},
   "outputs": [],
   "source": [
    "pool = ThreadPool()\n",
    "\n",
    "results = pool.map(summarize_questions, ranges)\n",
    "\n",
    "pool.close()\n",
    "pool.join()"
   ]
  },
  {
   "cell_type": "code",
   "execution_count": null,
   "metadata": {},
   "outputs": [],
   "source": [
    "display(data_total, data_total.question_summary.isnull().count())"
   ]
  }
 ],
 "metadata": {
  "interpreter": {
   "hash": "65190492088f8f893703637e44405654f0f1bdf80495778828c83abbe4ed06f3"
  },
  "kernelspec": {
   "display_name": "Python 3.9.7 64-bit ('py397': conda)",
   "name": "python3"
  },
  "language_info": {
   "codemirror_mode": {
    "name": "ipython",
    "version": 3
   },
   "file_extension": ".py",
   "mimetype": "text/x-python",
   "name": "python",
   "nbconvert_exporter": "python",
   "pygments_lexer": "ipython3",
   "version": "3.9.7"
  },
  "orig_nbformat": 4
 },
 "nbformat": 4,
 "nbformat_minor": 2
}
